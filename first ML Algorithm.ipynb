{
 "cells": [
  {
   "cell_type": "code",
   "execution_count": 4,
   "metadata": {},
   "outputs": [],
   "source": [
    "import numpy as np\n",
    "import matplotlib.pyplot as plt\n",
    "from mpl_toolkits.mplot3d import Axes3D"
   ]
  },
  {
   "cell_type": "code",
   "execution_count": 6,
   "metadata": {},
   "outputs": [
    {
     "name": "stdout",
     "output_type": "stream",
     "text": [
      "(1000, 2)\n"
     ]
    }
   ],
   "source": [
    "observations = 1000\n",
    "\n",
    "xs=np.random.uniform(low=-10,high=10,size=(observations,1))\n",
    "zs=np.random.uniform(-10,10,(observations,1))\n",
    "\n",
    "inputs = np.column_stack((xs,zs))\n",
    "\n",
    "print (inputs.shape)"
   ]
  },
  {
   "cell_type": "code",
   "execution_count": 7,
   "metadata": {},
   "outputs": [
    {
     "name": "stdout",
     "output_type": "stream",
     "text": [
      "(1000, 1)\n"
     ]
    }
   ],
   "source": [
    "noise = np.random.uniform(-1,1,(observations,1))\n",
    "\n",
    "targets = 2*xs - 3*zs + 5 + noise\n",
    "\n",
    "print(targets.shape)"
   ]
  },
  {
   "cell_type": "code",
   "execution_count": 10,
   "metadata": {},
   "outputs": [
    {
     "name": "stdout",
     "output_type": "stream",
     "text": [
      "[[-0.00965071]\n",
      " [ 0.00988428]]\n",
      "[-0.00341009]\n"
     ]
    }
   ],
   "source": [
    "init_range = 0.1\n",
    "\n",
    "weights = np.random.uniform(-init_range,init_range, size=(2,1))\n",
    "\n",
    "biases = np.random.uniform(-init_range,init_range, size=1)\n",
    "\n",
    "print(weights)\n",
    "print(biases)\n"
   ]
  },
  {
   "cell_type": "code",
   "execution_count": 13,
   "metadata": {},
   "outputs": [],
   "source": [
    "learning_rate = 0.02"
   ]
  },
  {
   "cell_type": "code",
   "execution_count": 17,
   "metadata": {},
   "outputs": [
    {
     "name": "stdout",
     "output_type": "stream",
     "text": [
      "0.3865539847927083\n",
      "0.377677192673955\n",
      "0.36915089625119646\n",
      "0.3609612563772198\n",
      "0.35309498033661557\n",
      "0.3455393002701938\n",
      "0.3382819524512962\n",
      "0.33131115738037664\n",
      "0.32461560066553613\n",
      "0.31818441465797864\n",
      "0.31200716081258395\n",
      "0.3060738127449652\n",
      "0.30037473995750613\n",
      "0.29490069220797055\n",
      "0.28964278449531056\n",
      "0.2845924826382985\n",
      "0.2797415894235841\n",
      "0.2750822313006845\n",
      "0.2706068456023185\n",
      "0.2663081682693415\n",
      "0.26217922206034644\n",
      "0.25821330522681596\n",
      "0.254403980635419\n",
      "0.2507450653198126\n",
      "0.24723062044498903\n",
      "0.24385494166786834\n",
      "0.24061254987850264\n",
      "0.2374981823068609\n",
      "0.23450678398075342\n",
      "0.23163349952103784\n",
      "0.22887366526078926\n",
      "0.22622280167563746\n",
      "0.22367660611299195\n",
      "0.22123094580834574\n",
      "0.2188818511773316\n",
      "0.21662550937263664\n",
      "0.21445825809531402\n",
      "0.21237657965046025\n",
      "0.21037709523759565\n",
      "0.20845655946648575\n",
      "0.2066118550895074\n",
      "0.20483998794199904\n",
      "0.20313808208239367\n",
      "0.2015033751242383\n",
      "0.19993321375252704\n",
      "0.1984250494170692\n",
      "0.19697643419590388\n",
      "0.1955850168220444\n",
      "0.19424853886710364\n",
      "0.1929648310756107\n",
      "0.1917318098440612\n",
      "0.19054747383899304\n",
      "0.1894099007485943\n",
      "0.18831724416257342\n",
      "0.18726773057522586\n",
      "0.18625965650683168\n",
      "0.1852913857387166\n",
      "0.1843613466574811\n",
      "0.18346802970409545\n",
      "0.18260998492371244\n",
      "0.1817858196122266\n",
      "0.18099419605575776\n",
      "0.18023382935938861\n",
      "0.17950348536163505\n",
      "0.17880197863126174\n",
      "0.178128170543193\n",
      "0.1774809674303937\n",
      "0.17685931880872566\n",
      "0.17626221567189043\n",
      "0.17568868885369904\n",
      "0.17513780745500412\n",
      "0.17460867733274585\n",
      "0.17410043964865576\n",
      "0.17361226947526487\n",
      "0.1731433744569522\n",
      "0.17269299352386216\n",
      "0.1722603956566022\n",
      "0.17184487869971407\n",
      "0.17144576822199706\n",
      "0.1710624164218288\n",
      "0.17069420107570982\n",
      "0.1703405245283243\n",
      "0.1700008127224777\n",
      "0.16967451426733657\n",
      "0.16936109954345863\n",
      "0.16906005984316005\n",
      "0.168770906544826\n",
      "0.16849317031982122\n",
      "0.16822640037071704\n",
      "0.1679701636995956\n",
      "0.1677240444052452\n",
      "0.1674876430081056\n",
      "0.16726057580186673\n",
      "0.16704247423067095\n",
      "0.1668329842909037\n",
      "0.16663176595660598\n",
      "0.16643849262757407\n",
      "0.1662528505992496\n",
      "0.16607453855354198\n",
      "0.16590326706975453\n"
     ]
    }
   ],
   "source": [
    " for i in range (100):\n",
    "    outputs = np.dot(inputs,weights) + biases\n",
    "    deltas = outputs - targets\n",
    "    \n",
    "    loss=np.sum(deltas **2) / 2 / observations\n",
    "    \n",
    "    print (loss)\n",
    "    \n",
    "    deltas_scaled=deltas / observations\n",
    "    \n",
    "    weights = weights - learning_rate * np.dot(inputs.T,deltas_scaled)\n",
    "    biases = biases - learning_rate * np.sum(deltas_scaled)"
   ]
  },
  {
   "cell_type": "code",
   "execution_count": 18,
   "metadata": {},
   "outputs": [
    {
     "name": "stdout",
     "output_type": "stream",
     "text": [
      "[[ 2.00041404]\n",
      " [-2.99664395]] [4.91185582]\n"
     ]
    }
   ],
   "source": [
    "print (weights,biases)"
   ]
  },
  {
   "cell_type": "code",
   "execution_count": 19,
   "metadata": {},
   "outputs": [
    {
     "data": {
      "image/png": "[encoded data removed]",
      "text/plain": [
       "<Figure size 432x288 with 1 Axes>"
      ]
     },
     "metadata": {
      "needs_background": "light"
     },
     "output_type": "display_data"
    }
   ],
   "source": [
    "plt.plot(outputs,targets)\n",
    "plt.xlabel('output')\n",
    "plt.ylabel('targets')\n",
    "plt.show()"
   ]
  },
  {
   "cell_type": "code",
   "execution_count": null,
   "metadata": {},
   "outputs": [],
   "source": []
  }
 ],
 "metadata": {
  "kernelspec": {
   "display_name": "Python 3",
   "language": "python",
   "name": "python3"
  },
  "language_info": {
   "codemirror_mode": {
    "name": "ipython",
    "version": 3
   },
   "file_extension": ".py",
   "mimetype": "text/x-python",
   "name": "python",
   "nbconvert_exporter": "python",
   "pygments_lexer": "ipython3",
   "version": "3.8.5"
  }
 },
 "nbformat": 4,
 "nbformat_minor": 4
}
